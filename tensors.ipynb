{
 "cells": [
  {
   "cell_type": "code",
   "execution_count": 2,
   "metadata": {},
   "outputs": [],
   "source": [
    "import torch\n",
    "import numpy as np"
   ]
  },
  {
   "cell_type": "code",
   "execution_count": 4,
   "metadata": {},
   "outputs": [
    {
     "data": {
      "text/plain": [
       "tensor([[1, 2],\n",
       "        [3, 4]])"
      ]
     },
     "execution_count": 4,
     "metadata": {},
     "output_type": "execute_result"
    }
   ],
   "source": [
    "data = [[1, 2], [3, 4]]\n",
    "\n",
    "# tensor from data\n",
    "x_data = torch.tensor(data)\n",
    "x_data"
   ]
  },
  {
   "cell_type": "code",
   "execution_count": 7,
   "metadata": {},
   "outputs": [
    {
     "data": {
      "text/plain": [
       "tensor([[1, 2],\n",
       "        [3, 4]])"
      ]
     },
     "execution_count": 7,
     "metadata": {},
     "output_type": "execute_result"
    }
   ],
   "source": [
    "# tensor from ndarray\n",
    "np_array = np.array(data)\n",
    "x_np = torch.from_numpy(np_array)\n",
    "x_np"
   ]
  },
  {
   "cell_type": "code",
   "execution_count": 8,
   "metadata": {},
   "outputs": [
    {
     "data": {
      "text/plain": [
       "tensor([[1, 1],\n",
       "        [1, 1]])"
      ]
     },
     "execution_count": 8,
     "metadata": {},
     "output_type": "execute_result"
    }
   ],
   "source": [
    "# tensor from another tensor\n",
    "x_ones = torch.ones_like(x_data)\n",
    "x_ones"
   ]
  },
  {
   "cell_type": "code",
   "execution_count": 10,
   "metadata": {},
   "outputs": [
    {
     "name": "stdout",
     "output_type": "stream",
     "text": [
      "Random tensor: \n",
      " tensor([[[0.1837, 0.9724, 0.6352, 0.2716, 0.7969],\n",
      "         [0.6312, 0.8828, 0.3888, 0.7170, 0.8618],\n",
      "         [0.5983, 0.8006, 0.2029, 0.0742, 0.5458]],\n",
      "\n",
      "        [[0.1476, 0.0216, 0.8464, 0.9800, 0.9604],\n",
      "         [0.9890, 0.0649, 0.2091, 0.8096, 0.1972],\n",
      "         [0.5381, 0.9166, 0.0514, 0.8360, 0.3560]]]) \n",
      "\n",
      "Ones tensor: \n",
      " tensor([[[1., 1., 1., 1., 1.],\n",
      "         [1., 1., 1., 1., 1.],\n",
      "         [1., 1., 1., 1., 1.]],\n",
      "\n",
      "        [[1., 1., 1., 1., 1.],\n",
      "         [1., 1., 1., 1., 1.],\n",
      "         [1., 1., 1., 1., 1.]]]) \n",
      "\n",
      "Zeros Tensor: \n",
      " tensor([[[0., 0., 0., 0., 0.],\n",
      "         [0., 0., 0., 0., 0.],\n",
      "         [0., 0., 0., 0., 0.]],\n",
      "\n",
      "        [[0., 0., 0., 0., 0.],\n",
      "         [0., 0., 0., 0., 0.],\n",
      "         [0., 0., 0., 0., 0.]]])\n"
     ]
    }
   ],
   "source": [
    "# from random or constant values\n",
    "shape = (2, 3, 5)\n",
    "rand_tensor = torch.rand(shape)\n",
    "ones_tensor = torch.ones(shape)\n",
    "zeros_tensor = torch.zeros(shape)\n",
    "\n",
    "print(f\"Random tensor: \\n {rand_tensor} \\n\")\n",
    "print(f\"Ones tensor: \\n {ones_tensor} \\n\")\n",
    "print(f\"Zeros Tensor: \\n {zeros_tensor}\")"
   ]
  },
  {
   "cell_type": "code",
   "execution_count": 11,
   "metadata": {},
   "outputs": [
    {
     "name": "stdout",
     "output_type": "stream",
     "text": [
      "Tensor shape: torch.Size([4, 3])\n",
      "Tensor data type: torch.float32\n",
      "Tensor device: cpu\n"
     ]
    }
   ],
   "source": [
    "# Tensor attributes\n",
    "# shape, data types and device on which tensor is stored\n",
    "\n",
    "tensor = torch.rand(4, 3)\n",
    "print(f\"Tensor shape: {tensor.shape}\")\n",
    "print(f\"Tensor data type: {tensor.dtype}\")\n",
    "print(f\"Tensor device: {tensor.device}\")\n"
   ]
  },
  {
   "cell_type": "code",
   "execution_count": 14,
   "metadata": {},
   "outputs": [
    {
     "name": "stdout",
     "output_type": "stream",
     "text": [
      "Tensor device: cuda:0\n"
     ]
    }
   ],
   "source": [
    "# moving tenso to GPU\n",
    "if torch.cuda.is_available():\n",
    "  tensor = tensor.to('cuda')\n",
    "  print(f\"Tensor device: {tensor.device}\")"
   ]
  },
  {
   "cell_type": "code",
   "execution_count": 26,
   "metadata": {},
   "outputs": [
    {
     "name": "stdout",
     "output_type": "stream",
     "text": [
      "tensor([[0.3589, 0.2130, 0.6490, 0.4627],\n",
      "        [0.4530, 0.5703, 0.4604, 0.2263],\n",
      "        [0.6211, 0.9304, 0.4605, 0.7614],\n",
      "        [0.2694, 0.0336, 0.7533, 0.4155]]) \n",
      " \n",
      "First row:  tensor([0.3589, 0.2130, 0.6490, 0.4627])\n",
      "First Column:  tensor([0.3589, 0.4530, 0.6211, 0.2694])\n",
      "Last Column:  tensor([0.4627, 0.2263, 0.7614, 0.4155])\n"
     ]
    }
   ],
   "source": [
    "# indexing and slicing\n",
    "tensor = torch.rand(4, 4)\n",
    "print(f\"{tensor} \\n \")\n",
    "print('First row: ', tensor[0]) \n",
    "print('First Column: ', tensor[:, 0]) # : is for all rows, 0 is for first column\n",
    "print('Last Column: ', tensor[..., -1]) # ... means all dimensions, same as [:, -1]"
   ]
  },
  {
   "cell_type": "code",
   "execution_count": 28,
   "metadata": {},
   "outputs": [
    {
     "name": "stdout",
     "output_type": "stream",
     "text": [
      "tensor([[0.3589, 0.2130, 0.6490, 0.4627, 0.3589, 0.2130, 0.6490, 0.4627],\n",
      "        [0.4530, 0.5703, 0.4604, 0.2263, 0.4530, 0.5703, 0.4604, 0.2263],\n",
      "        [0.6211, 0.9304, 0.4605, 0.7614, 0.6211, 0.9304, 0.4605, 0.7614],\n",
      "        [0.2694, 0.0336, 0.7533, 0.4155, 0.2694, 0.0336, 0.7533, 0.4155]]) \n",
      "\n"
     ]
    }
   ],
   "source": [
    "# joining tensors\n",
    "t1 = torch.cat([tensor, tensor], dim=1)\n",
    "print(f\"{t1} \\n\")"
   ]
  },
  {
   "cell_type": "code",
   "execution_count": 32,
   "metadata": {},
   "outputs": [
    {
     "name": "stdout",
     "output_type": "stream",
     "text": [
      "y1: tensor([[0.8096, 0.6876, 1.0724, 0.7850],\n",
      "        [0.6876, 0.7937, 1.1963, 0.5820],\n",
      "        [1.0724, 1.1963, 2.0433, 0.8619],\n",
      "        [0.7850, 0.5820, 0.8619, 0.8138]]) \n",
      " y2: tensor([[0.8096, 0.6876, 1.0724, 0.7850],\n",
      "        [0.6876, 0.7937, 1.1963, 0.5820],\n",
      "        [1.0724, 1.1963, 2.0433, 0.8619],\n",
      "        [0.7850, 0.5820, 0.8619, 0.8138]]) \n",
      " y3: tensor([[0.8096, 0.6876, 1.0724, 0.7850],\n",
      "        [0.6876, 0.7937, 1.1963, 0.5820],\n",
      "        [1.0724, 1.1963, 2.0433, 0.8619],\n",
      "        [0.7850, 0.5820, 0.8619, 0.8138]])\n",
      "z1: tensor([[0.1288, 0.0454, 0.4212, 0.2141],\n",
      "        [0.2052, 0.3253, 0.2120, 0.0512],\n",
      "        [0.3858, 0.8657, 0.2121, 0.5797],\n",
      "        [0.0726, 0.0011, 0.5674, 0.1727]]) \n",
      " z2: tensor([[0.1288, 0.0454, 0.4212, 0.2141],\n",
      "        [0.2052, 0.3253, 0.2120, 0.0512],\n",
      "        [0.3858, 0.8657, 0.2121, 0.5797],\n",
      "        [0.0726, 0.0011, 0.5674, 0.1727]]) \n",
      " z3: tensor([[0.1288, 0.0454, 0.4212, 0.2141],\n",
      "        [0.2052, 0.3253, 0.2120, 0.0512],\n",
      "        [0.3858, 0.8657, 0.2121, 0.5797],\n",
      "        [0.0726, 0.0011, 0.5674, 0.1727]])\n"
     ]
    }
   ],
   "source": [
    "# Arthimetical operations\n",
    "# Matrix multiplication (3 diffrent ways) y1, y2, y3 will have the same value\n",
    "y1 = tensor @ tensor.T\n",
    "y2 = tensor.matmul(tensor.T)\n",
    "y3 = torch.rand_like(tensor)\n",
    "torch.matmul(tensor, tensor.T, out=y3)\n",
    "\n",
    "print(f\"y1: {y1} \\n y2: {y2} \\n y3: {y3}\")\n",
    "\n",
    "# dot multiplication, element wise multiplication (3 diffrent ways)\n",
    "z1 = tensor * tensor\n",
    "z2 = tensor.mul(tensor)\n",
    "z3 = torch.rand_like(tensor)\n",
    "torch.mul(tensor, tensor, out=z3)\n",
    "print(f\"z1: {z1} \\n z2: {z2} \\n z3: {z3}\")\n",
    "\n"
   ]
  },
  {
   "cell_type": "code",
   "execution_count": 33,
   "metadata": {},
   "outputs": [
    {
     "name": "stdout",
     "output_type": "stream",
     "text": [
      "7.639002799987793 <class 'float'>\n"
     ]
    }
   ],
   "source": [
    "# converting a single-element tensor to a Python numerical value\n",
    "agg = tensor.sum() # sum of all elements, (aggregation operation)\n",
    "agg_item = agg.item()\n",
    "print(agg_item, type(agg_item))"
   ]
  },
  {
   "cell_type": "code",
   "execution_count": 35,
   "metadata": {},
   "outputs": [
    {
     "name": "stdout",
     "output_type": "stream",
     "text": [
      "tensor([[5.3589, 5.2130, 5.6490, 5.4627],\n",
      "        [5.4530, 5.5703, 5.4604, 5.2263],\n",
      "        [5.6211, 5.9304, 5.4605, 5.7614],\n",
      "        [5.2694, 5.0336, 5.7533, 5.4155]]) \n",
      "\n",
      "tensor([[10.3589, 10.2130, 10.6490, 10.4627],\n",
      "        [10.4530, 10.5703, 10.4604, 10.2262],\n",
      "        [10.6211, 10.9304, 10.4605, 10.7614],\n",
      "        [10.2694, 10.0336, 10.7533, 10.4155]])\n"
     ]
    }
   ],
   "source": [
    "# In place operations\n",
    "# They are denoted by a trailing underscore (_ as suffix)\n",
    "print(tensor, \"\\n\")\n",
    "tensor.add_(5)\n",
    "print(tensor)"
   ]
  },
  {
   "cell_type": "code",
   "execution_count": null,
   "metadata": {},
   "outputs": [],
   "source": []
  }
 ],
 "metadata": {
  "interpreter": {
   "hash": "e0d786df71ea4f07f0d88b79b83ebd172ea0b654c0fa3a183775c82d28b0ca8c"
  },
  "kernelspec": {
   "display_name": "Python 3.9.5 64-bit ('base': conda)",
   "language": "python",
   "name": "python3"
  },
  "language_info": {
   "codemirror_mode": {
    "name": "ipython",
    "version": 3
   },
   "file_extension": ".py",
   "mimetype": "text/x-python",
   "name": "python",
   "nbconvert_exporter": "python",
   "pygments_lexer": "ipython3",
   "version": "3.9.5"
  },
  "orig_nbformat": 4
 },
 "nbformat": 4,
 "nbformat_minor": 2
}
