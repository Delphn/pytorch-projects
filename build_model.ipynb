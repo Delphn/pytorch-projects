{
 "cells": [
  {
   "cell_type": "code",
   "execution_count": 3,
   "metadata": {},
   "outputs": [],
   "source": [
    "import os\n",
    "import torch\n",
    "from torch import nn\n",
    "from torch.utils.data import DataLoader\n",
    "from torchvision import datasets, transforms"
   ]
  },
  {
   "cell_type": "code",
   "execution_count": 4,
   "metadata": {},
   "outputs": [
    {
     "name": "stdout",
     "output_type": "stream",
     "text": [
      "Using cuda device\n"
     ]
    }
   ],
   "source": [
    "# get the device for training\n",
    "\n",
    "device = 'cuda' if torch.cuda.is_available() else 'cpu'\n",
    "print(f'Using {device} device')"
   ]
  },
  {
   "cell_type": "code",
   "execution_count": 5,
   "metadata": {},
   "outputs": [],
   "source": [
    "# define the nn class\n",
    "\n",
    "class NeuralNetwork(nn.Module):\n",
    "    def __init__(self):\n",
    "        super(NeuralNetwork, self).__init__()\n",
    "        self.flatten = nn.Flatten()\n",
    "        self.linear_relu_stack = nn.Sequential(\n",
    "            nn.Linear(28 * 28, 512),\n",
    "            nn.ReLU(),\n",
    "            nn.Linear(512, 512),\n",
    "            nn.ReLU(),\n",
    "            nn.Linear(512, 10),\n",
    "        )\n",
    "\n",
    "    def forward(self, x):\n",
    "        x = self.flatten(x)\n",
    "        logits = self.linear_relu_stack(x)\n",
    "        return logits"
   ]
  },
  {
   "cell_type": "code",
   "execution_count": 6,
   "metadata": {},
   "outputs": [
    {
     "data": {
      "text/plain": [
       "NeuralNetwork(\n",
       "  (flatten): Flatten(start_dim=1, end_dim=-1)\n",
       "  (linear_relu_stack): Sequential(\n",
       "    (0): Linear(in_features=784, out_features=512, bias=True)\n",
       "    (1): ReLU()\n",
       "    (2): Linear(in_features=512, out_features=512, bias=True)\n",
       "    (3): ReLU()\n",
       "    (4): Linear(in_features=512, out_features=10, bias=True)\n",
       "  )\n",
       ")"
      ]
     },
     "execution_count": 6,
     "metadata": {},
     "output_type": "execute_result"
    }
   ],
   "source": [
    "# create an instance of model\n",
    "\n",
    "model = NeuralNetwork().to(device)\n",
    "model"
   ]
  },
  {
   "cell_type": "code",
   "execution_count": 7,
   "metadata": {},
   "outputs": [
    {
     "name": "stdout",
     "output_type": "stream",
     "text": [
      "tensor([[ 0.1401,  0.0066, -0.0235,  0.0434,  0.0585,  0.0674,  0.0600,  0.0120,\n",
      "         -0.0213, -0.0087]], device='cuda:0', grad_fn=<AddmmBackward0>)\n",
      "tensor([[0.1111, 0.0972, 0.0944, 0.1009, 0.1024, 0.1033, 0.1026, 0.0978, 0.0946,\n",
      "         0.0958]], device='cuda:0', grad_fn=<SoftmaxBackward0>)\n",
      "Predicted class: tensor([0], device='cuda:0')\n"
     ]
    }
   ],
   "source": [
    "X = torch.rand(1, 28, 28).to(device)\n",
    "logits = model(X)\n",
    "print(logits)\n",
    "pred_probab = torch.softmax(logits, dim=1)\n",
    "print(pred_probab)\n",
    "y_pred = pred_probab.argmax(1)\n",
    "print(f'Predicted class: {y_pred}')"
   ]
  },
  {
   "cell_type": "code",
   "execution_count": 10,
   "metadata": {},
   "outputs": [
    {
     "name": "stdout",
     "output_type": "stream",
     "text": [
      "torch.Size([3, 28, 28])\n",
      "torch.Size([3, 784])\n",
      "torch.Size([3, 20])\n",
      "Before ReLU: tensor([[ 0.6567, -0.4206,  0.1905, -0.0107, -0.5304,  0.5004, -0.0896, -0.1603,\n",
      "         -0.3829,  0.2445, -0.4847,  0.2647,  0.6392,  0.1039, -0.0335, -0.5326,\n",
      "          0.3537,  0.3531,  0.3951, -0.1365],\n",
      "        [ 0.1953, -0.6316, -0.0978,  0.0490, -0.5422, -0.0218,  0.1268,  0.0297,\n",
      "         -0.4489,  0.1441, -0.6224,  0.3186,  0.7656, -0.0606, -0.2509, -0.0983,\n",
      "          0.1792,  0.4540,  0.3686,  0.0429],\n",
      "        [ 0.7368, -0.6552, -0.1588, -0.2888, -0.5384,  0.3615, -0.1741, -0.1942,\n",
      "         -0.4860,  0.2303, -0.6947,  0.2050,  0.4333, -0.0818, -0.1356, -0.3281,\n",
      "          0.2951,  0.2010,  0.3450,  0.2181]], grad_fn=<AddmmBackward0>)\n",
      "\n",
      "\n",
      "After ReLU: tensor([[0.6567, 0.0000, 0.1905, 0.0000, 0.0000, 0.5004, 0.0000, 0.0000, 0.0000,\n",
      "         0.2445, 0.0000, 0.2647, 0.6392, 0.1039, 0.0000, 0.0000, 0.3537, 0.3531,\n",
      "         0.3951, 0.0000],\n",
      "        [0.1953, 0.0000, 0.0000, 0.0490, 0.0000, 0.0000, 0.1268, 0.0297, 0.0000,\n",
      "         0.1441, 0.0000, 0.3186, 0.7656, 0.0000, 0.0000, 0.0000, 0.1792, 0.4540,\n",
      "         0.3686, 0.0429],\n",
      "        [0.7368, 0.0000, 0.0000, 0.0000, 0.0000, 0.3615, 0.0000, 0.0000, 0.0000,\n",
      "         0.2303, 0.0000, 0.2050, 0.4333, 0.0000, 0.0000, 0.0000, 0.2951, 0.2010,\n",
      "         0.3450, 0.2181]], grad_fn=<ReluBackward0>)\n"
     ]
    }
   ],
   "source": [
    "# Model layers\n",
    "\n",
    "input_image = torch.rand(3, 28, 28)\n",
    "print(input_image.size())\n",
    "\n",
    "# nn.Flatten layer\n",
    "# COnvert each 2D 28x28 image to a 1D 784-dimensional vector (minibatch dimension is maintained)\n",
    "\n",
    "flatten = nn.Flatten()\n",
    "flat_image = flatten(input_image)\n",
    "print(flat_image.size())\n",
    "\n",
    "# nn.Linear layer\n",
    "# The linear layer applies a linear transformation on the input using its stored weights and biases\n",
    "\n",
    "layer1 = nn.Linear(in_features=28*28, out_features=20)\n",
    "hidden1 = layer1(flat_image)\n",
    "print(hidden1.size())\n",
    "\n",
    "# nn.ReLU layer\n",
    "# Non-linear activations are what create the complex mappings between the model’s inputs and outputs. They are applied after linear transformations to introduce nonlinearity, helping neural networks learn a wide variety of phenomena\n",
    "\n",
    "print(f\"Before ReLU: {hidden1}\\n\\n\")\n",
    "hidden1 = nn.ReLU()(hidden1)\n",
    "print(f\"After ReLU: {hidden1}\")\n",
    "\n",
    "# nn.Sequential\n",
    "# nn.Sequential is an ordered container of modules. The data is passed through all the modules in the same order as defined\n",
    "\n",
    "seq_modules = nn.Sequential(\n",
    "  flatten,\n",
    "  layer1,\n",
    "  nn.ReLU(),\n",
    "  nn.Linear(20, 10)\n",
    ")\n",
    "input_image = torch.rand(3, 28, 28)\n",
    "logits = seq_modules(input_image)\n"
   ]
  },
  {
   "cell_type": "code",
   "execution_count": 12,
   "metadata": {},
   "outputs": [
    {
     "data": {
      "text/plain": [
       "<matplotlib.image.AxesImage at 0x7f2cad8639a0>"
      ]
     },
     "execution_count": 12,
     "metadata": {},
     "output_type": "execute_result"
    },
    {
     "data": {
      "image/png": "[encoded data removed]",
      "text/plain": [
       "<Figure size 432x288 with 1 Axes>"
      ]
     },
     "metadata": {
      "needs_background": "light"
     },
     "output_type": "display_data"
    }
   ],
   "source": [
    "import matplotlib.pyplot as plt\n",
    "\n",
    "plt.imshow(input_image[0].squeeze())\n"
   ]
  },
  {
   "cell_type": "code",
   "execution_count": 13,
   "metadata": {},
   "outputs": [],
   "source": [
    "# nn.Softmax\n",
    "# The last linear layer of the neural network returns logits - raw values in [-infty, infty] - which are passed to the nn.Softmax module. The logits are scaled to values [0, 1] representing the model’s predicted probabilities for each class. dim parameter indicates the dimension along which the values must sum to 1.\n",
    "\n",
    "softmax = nn.Softmax(dim=1)\n",
    "pred_probab = softmax(logits)\n"
   ]
  },
  {
   "cell_type": "code",
   "execution_count": 14,
   "metadata": {},
   "outputs": [
    {
     "name": "stdout",
     "output_type": "stream",
     "text": [
      "Module structure: NeuralNetwork(\n",
      "  (flatten): Flatten(start_dim=1, end_dim=-1)\n",
      "  (linear_relu_stack): Sequential(\n",
      "    (0): Linear(in_features=784, out_features=512, bias=True)\n",
      "    (1): ReLU()\n",
      "    (2): Linear(in_features=512, out_features=512, bias=True)\n",
      "    (3): ReLU()\n",
      "    (4): Linear(in_features=512, out_features=10, bias=True)\n",
      "  )\n",
      ") \n",
      "\n",
      "\n",
      "Layer: linear_relu_stack.0.weight | Size: torch.Size([512, 784]) | Values: tensor([[-0.0014, -0.0325, -0.0115,  ...,  0.0122, -0.0171,  0.0032],\n",
      "        [-0.0291, -0.0338, -0.0295,  ...,  0.0165,  0.0063, -0.0151]],\n",
      "       device='cuda:0', grad_fn=<SliceBackward0>) \n",
      "\n",
      "Layer: linear_relu_stack.0.bias | Size: torch.Size([512]) | Values: tensor([-0.0321, -0.0316], device='cuda:0', grad_fn=<SliceBackward0>) \n",
      "\n",
      "Layer: linear_relu_stack.2.weight | Size: torch.Size([512, 512]) | Values: tensor([[ 0.0110, -0.0183, -0.0277,  ..., -0.0436,  0.0222, -0.0304],\n",
      "        [-0.0092, -0.0376, -0.0334,  ..., -0.0057,  0.0249,  0.0360]],\n",
      "       device='cuda:0', grad_fn=<SliceBackward0>) \n",
      "\n",
      "Layer: linear_relu_stack.2.bias | Size: torch.Size([512]) | Values: tensor([-0.0345,  0.0324], device='cuda:0', grad_fn=<SliceBackward0>) \n",
      "\n",
      "Layer: linear_relu_stack.4.weight | Size: torch.Size([10, 512]) | Values: tensor([[-0.0009, -0.0263, -0.0088,  ...,  0.0308, -0.0168,  0.0027],\n",
      "        [ 0.0274, -0.0110,  0.0277,  ..., -0.0368, -0.0246,  0.0307]],\n",
      "       device='cuda:0', grad_fn=<SliceBackward0>) \n",
      "\n",
      "Layer: linear_relu_stack.4.bias | Size: torch.Size([10]) | Values: tensor([ 0.0423, -0.0255], device='cuda:0', grad_fn=<SliceBackward0>) \n",
      "\n"
     ]
    }
   ],
   "source": [
    "# Model Parameters\n",
    "\n",
    "print(\"Module structure:\", model, \"\\n\\n\")\n",
    "\n",
    "for name, param in model.named_parameters():\n",
    "  print(f\"Layer: {name} | Size: {param.size()} | Values: {param[:2]} \\n\")"
   ]
  }
 ],
 "metadata": {
  "interpreter": {
   "hash": "e0d786df71ea4f07f0d88b79b83ebd172ea0b654c0fa3a183775c82d28b0ca8c"
  },
  "kernelspec": {
   "display_name": "Python 3.9.5 64-bit ('base': conda)",
   "language": "python",
   "name": "python3"
  },
  "language_info": {
   "codemirror_mode": {
    "name": "ipython",
    "version": 3
   },
   "file_extension": ".py",
   "mimetype": "text/x-python",
   "name": "python",
   "nbconvert_exporter": "python",
   "pygments_lexer": "ipython3",
   "version": "3.9.5"
  },
  "orig_nbformat": 4
 },
 "nbformat": 4,
 "nbformat_minor": 2
}
